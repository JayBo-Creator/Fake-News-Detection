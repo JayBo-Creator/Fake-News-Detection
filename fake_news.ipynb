{
 "cells": [
  {
   "cell_type": "code",
   "execution_count": 1,
   "metadata": {},
   "outputs": [],
   "source": [
    "import pandas as pd\n",
    "import numpy as np\n",
    "import matplotlib.pyplot as plt"
   ]
  },
  {
   "cell_type": "code",
   "execution_count": 2,
   "metadata": {},
   "outputs": [],
   "source": [
    "df_true = pd.read_csv('true.csv', quoting = 2)\n",
    "df_fake = pd.read_csv('fake.csv', quoting = 2)"
   ]
  },
  {
   "cell_type": "code",
   "execution_count": 3,
   "metadata": {},
   "outputs": [],
   "source": [
    "df_true['Label'] = 'true'\n",
    "df_fake['Label'] = 'fake'"
   ]
  },
  {
   "cell_type": "code",
   "execution_count": 4,
   "metadata": {},
   "outputs": [],
   "source": [
    "combined_df = pd.concat([df_true, df_fake], ignore_index = True)"
   ]
  },
  {
   "cell_type": "code",
   "execution_count": 5,
   "metadata": {},
   "outputs": [
    {
     "data": {
      "text/plain": [
       "(44898, 5)"
      ]
     },
     "execution_count": 5,
     "metadata": {},
     "output_type": "execute_result"
    }
   ],
   "source": [
    "combined_df.shape"
   ]
  },
  {
   "cell_type": "code",
   "execution_count": 6,
   "metadata": {},
   "outputs": [],
   "source": [
    "import nltk\n",
    "import re\n",
    "from nltk.corpus import stopwords\n",
    "from nltk.stem.porter import PorterStemmer\n",
    "corpus = []\n",
    "for i in range(0, 44898):\n",
    "    review = re.sub('[^a-zA-Z]', ' ', combined_df['text'][i])\n",
    "    review = review.lower()\n",
    "    review = review.split()\n",
    "    all_stopwords = stopwords.words('english')\n",
    "    all_stopwords.remove('not')\n",
    "    ps = PorterStemmer()\n",
    "    review = [ps.stem(word) for word in review if not word in set(all_stopwords)]\n",
    "    review = ' '.join(review)\n",
    "    corpus.append(review)"
   ]
  },
  {
   "cell_type": "code",
   "execution_count": 7,
   "metadata": {},
   "outputs": [],
   "source": [
    "from sklearn.feature_extraction.text import CountVectorizer\n",
    "cv = CountVectorizer(max_features = 2000)\n",
    "X = cv.fit_transform(corpus).toarray()\n",
    "y = combined_df['Label']"
   ]
  },
  {
   "cell_type": "code",
   "execution_count": 8,
   "metadata": {},
   "outputs": [],
   "source": [
    "import tensorflow as tf"
   ]
  },
  {
   "cell_type": "code",
   "execution_count": 9,
   "metadata": {},
   "outputs": [],
   "source": [
    "from sklearn.preprocessing import LabelEncoder\n",
    "le = LabelEncoder()\n",
    "y = le.fit_transform(y)"
   ]
  },
  {
   "cell_type": "code",
   "execution_count": 10,
   "metadata": {},
   "outputs": [],
   "source": [
    "from sklearn.model_selection import train_test_split\n",
    "X_train, X_test, y_train, y_test = train_test_split(X, y, test_size = 0.3, random_state = 0)"
   ]
  },
  {
   "cell_type": "code",
   "execution_count": 11,
   "metadata": {},
   "outputs": [],
   "source": [
    "ann = tf.keras.models.Sequential()"
   ]
  },
  {
   "cell_type": "code",
   "execution_count": 12,
   "metadata": {},
   "outputs": [],
   "source": [
    "ann.add(tf.keras.layers.Dense(units = 12, activation = 'relu'))"
   ]
  },
  {
   "cell_type": "code",
   "execution_count": 13,
   "metadata": {},
   "outputs": [],
   "source": [
    "ann.add(tf.keras.layers.Dense(units = 12, activation = 'relu'))"
   ]
  },
  {
   "cell_type": "code",
   "execution_count": 14,
   "metadata": {},
   "outputs": [],
   "source": [
    "ann.add(tf.keras.layers.Dense(units = 12, activation = 'relu'))"
   ]
  },
  {
   "cell_type": "code",
   "execution_count": 15,
   "metadata": {},
   "outputs": [],
   "source": [
    "ann.add(tf.keras.layers.Dense(units = 1, activation = 'sigmoid'))"
   ]
  },
  {
   "cell_type": "code",
   "execution_count": 16,
   "metadata": {},
   "outputs": [],
   "source": [
    "ann.compile(optimizer = 'adam', loss = 'binary_crossentropy', metrics = ['accuracy'])"
   ]
  },
  {
   "cell_type": "code",
   "execution_count": 17,
   "metadata": {},
   "outputs": [
    {
     "name": "stdout",
     "output_type": "stream",
     "text": [
      "Epoch 1/100\n",
      "983/983 [==============================] - 8s 4ms/step - loss: 0.1163 - accuracy: 0.9668\n",
      "Epoch 2/100\n",
      "983/983 [==============================] - 4s 4ms/step - loss: 0.0239 - accuracy: 0.9947\n",
      "Epoch 3/100\n",
      "983/983 [==============================] - 3s 4ms/step - loss: 0.0126 - accuracy: 0.9968\n",
      "Epoch 4/100\n",
      "983/983 [==============================] - 4s 4ms/step - loss: 0.0086 - accuracy: 0.9979\n",
      "Epoch 5/100\n",
      "983/983 [==============================] - 3s 4ms/step - loss: 0.0057 - accuracy: 0.9985\n",
      "Epoch 6/100\n",
      "983/983 [==============================] - 3s 4ms/step - loss: 0.0092 - accuracy: 0.9976\n",
      "Epoch 7/100\n",
      "983/983 [==============================] - 4s 4ms/step - loss: 0.0050 - accuracy: 0.9988\n",
      "Epoch 8/100\n",
      "983/983 [==============================] - 4s 4ms/step - loss: 0.0035 - accuracy: 0.9990\n",
      "Epoch 9/100\n",
      "983/983 [==============================] - 4s 4ms/step - loss: 0.0013 - accuracy: 0.9997\n",
      "Epoch 10/100\n",
      "983/983 [==============================] - 4s 4ms/step - loss: 0.0031 - accuracy: 0.9992\n",
      "Epoch 11/100\n",
      "983/983 [==============================] - 4s 4ms/step - loss: 0.0018 - accuracy: 0.9995\n",
      "Epoch 12/100\n",
      "983/983 [==============================] - 6s 6ms/step - loss: 9.7725e-04 - accuracy: 0.9998\n",
      "Epoch 13/100\n",
      "983/983 [==============================] - 4s 4ms/step - loss: 0.0019 - accuracy: 0.9996\n",
      "Epoch 14/100\n",
      "983/983 [==============================] - 4s 4ms/step - loss: 0.0034 - accuracy: 0.9993\n",
      "Epoch 15/100\n",
      "983/983 [==============================] - 4s 4ms/step - loss: 9.8315e-04 - accuracy: 0.9998\n",
      "Epoch 16/100\n",
      "983/983 [==============================] - 4s 4ms/step - loss: 7.0889e-04 - accuracy: 0.9998\n",
      "Epoch 17/100\n",
      "983/983 [==============================] - 4s 4ms/step - loss: 2.7502e-04 - accuracy: 1.0000\n",
      "Epoch 18/100\n",
      "983/983 [==============================] - 3s 4ms/step - loss: 2.6560e-04 - accuracy: 1.0000\n",
      "Epoch 19/100\n",
      "983/983 [==============================] - 3s 3ms/step - loss: 2.6006e-04 - accuracy: 1.0000\n",
      "Epoch 20/100\n",
      "983/983 [==============================] - 4s 4ms/step - loss: 2.6288e-04 - accuracy: 1.0000\n",
      "Epoch 21/100\n",
      "983/983 [==============================] - 4s 4ms/step - loss: 2.6058e-04 - accuracy: 1.0000\n",
      "Epoch 22/100\n",
      "983/983 [==============================] - 4s 4ms/step - loss: 2.5858e-04 - accuracy: 1.0000\n",
      "Epoch 23/100\n",
      "983/983 [==============================] - 4s 4ms/step - loss: 2.5319e-04 - accuracy: 1.0000\n",
      "Epoch 24/100\n",
      "983/983 [==============================] - 4s 4ms/step - loss: 2.5215e-04 - accuracy: 1.0000\n",
      "Epoch 25/100\n",
      "983/983 [==============================] - 3s 4ms/step - loss: 6.3299e-04 - accuracy: 0.9998\n",
      "Epoch 26/100\n",
      "983/983 [==============================] - 4s 4ms/step - loss: 0.0047 - accuracy: 0.9990\n",
      "Epoch 27/100\n",
      "983/983 [==============================] - 4s 4ms/step - loss: 9.9357e-04 - accuracy: 0.9997\n",
      "Epoch 28/100\n",
      "983/983 [==============================] - 5s 5ms/step - loss: 2.8422e-04 - accuracy: 1.0000\n",
      "Epoch 29/100\n",
      "983/983 [==============================] - 6s 6ms/step - loss: 2.5535e-04 - accuracy: 1.0000\n",
      "Epoch 30/100\n",
      "983/983 [==============================] - 4s 4ms/step - loss: 2.5713e-04 - accuracy: 1.0000\n",
      "Epoch 31/100\n",
      "983/983 [==============================] - 4s 4ms/step - loss: 2.5153e-04 - accuracy: 1.0000\n",
      "Epoch 32/100\n",
      "983/983 [==============================] - 4s 4ms/step - loss: 2.5363e-04 - accuracy: 1.0000\n",
      "Epoch 33/100\n",
      "983/983 [==============================] - 4s 4ms/step - loss: 2.5664e-04 - accuracy: 1.0000\n",
      "Epoch 34/100\n",
      "983/983 [==============================] - 4s 4ms/step - loss: 2.5221e-04 - accuracy: 1.0000\n",
      "Epoch 35/100\n",
      "983/983 [==============================] - 4s 4ms/step - loss: 0.0056 - accuracy: 0.9987\n",
      "Epoch 36/100\n",
      "983/983 [==============================] - 4s 4ms/step - loss: 8.2607e-04 - accuracy: 0.9997\n",
      "Epoch 37/100\n",
      "983/983 [==============================] - 4s 4ms/step - loss: 2.8440e-04 - accuracy: 1.0000\n",
      "Epoch 38/100\n",
      "983/983 [==============================] - 4s 4ms/step - loss: 2.5215e-04 - accuracy: 1.0000\n",
      "Epoch 39/100\n",
      "983/983 [==============================] - 3s 4ms/step - loss: 2.4976e-04 - accuracy: 1.0000\n",
      "Epoch 40/100\n",
      "983/983 [==============================] - 4s 4ms/step - loss: 2.5119e-04 - accuracy: 1.0000\n",
      "Epoch 41/100\n",
      "983/983 [==============================] - 4s 4ms/step - loss: 2.4128e-04 - accuracy: 1.0000\n",
      "Epoch 42/100\n",
      "983/983 [==============================] - 4s 4ms/step - loss: 2.4988e-04 - accuracy: 1.0000\n",
      "Epoch 43/100\n",
      "983/983 [==============================] - 4s 4ms/step - loss: 2.4913e-04 - accuracy: 1.0000\n",
      "Epoch 44/100\n",
      "983/983 [==============================] - 4s 4ms/step - loss: 2.5879e-04 - accuracy: 1.0000\n",
      "Epoch 45/100\n",
      "983/983 [==============================] - 4s 4ms/step - loss: 0.0011 - accuracy: 0.9997\n",
      "Epoch 46/100\n",
      "983/983 [==============================] - 4s 4ms/step - loss: 0.0028 - accuracy: 0.9991\n",
      "Epoch 47/100\n",
      "983/983 [==============================] - 4s 4ms/step - loss: 4.5738e-04 - accuracy: 0.9999\n",
      "Epoch 48/100\n",
      "983/983 [==============================] - 6s 6ms/step - loss: 2.4805e-04 - accuracy: 1.0000\n",
      "Epoch 49/100\n",
      "983/983 [==============================] - 4s 4ms/step - loss: 2.4238e-04 - accuracy: 1.0000\n",
      "Epoch 50/100\n",
      "983/983 [==============================] - 4s 4ms/step - loss: 2.4817e-04 - accuracy: 1.0000\n",
      "Epoch 51/100\n",
      "983/983 [==============================] - 4s 4ms/step - loss: 2.5246e-04 - accuracy: 1.0000\n",
      "Epoch 52/100\n",
      "983/983 [==============================] - 4s 4ms/step - loss: 2.4100e-04 - accuracy: 1.0000\n",
      "Epoch 53/100\n",
      "983/983 [==============================] - 4s 4ms/step - loss: 2.5447e-04 - accuracy: 1.0000\n",
      "Epoch 54/100\n",
      "983/983 [==============================] - 4s 4ms/step - loss: 2.4585e-04 - accuracy: 1.0000\n",
      "Epoch 55/100\n",
      "983/983 [==============================] - 3s 4ms/step - loss: 2.5962e-04 - accuracy: 1.0000\n",
      "Epoch 56/100\n",
      "983/983 [==============================] - 4s 4ms/step - loss: 2.5173e-04 - accuracy: 1.0000\n",
      "Epoch 57/100\n",
      "983/983 [==============================] - 4s 4ms/step - loss: 0.0022 - accuracy: 0.9996\n",
      "Epoch 58/100\n",
      "983/983 [==============================] - 5s 5ms/step - loss: 0.0034 - accuracy: 0.9995\n",
      "Epoch 59/100\n",
      "983/983 [==============================] - 4s 4ms/step - loss: 0.0019 - accuracy: 0.9996\n",
      "Epoch 60/100\n",
      "983/983 [==============================] - 4s 4ms/step - loss: 8.3782e-04 - accuracy: 0.9998\n",
      "Epoch 61/100\n",
      "983/983 [==============================] - 4s 4ms/step - loss: 2.5229e-04 - accuracy: 1.0000\n",
      "Epoch 62/100\n",
      "983/983 [==============================] - 4s 4ms/step - loss: 2.4001e-04 - accuracy: 1.0000\n",
      "Epoch 63/100\n",
      "983/983 [==============================] - 4s 4ms/step - loss: 2.4245e-04 - accuracy: 1.0000\n",
      "Epoch 64/100\n",
      "983/983 [==============================] - 4s 4ms/step - loss: 2.4745e-04 - accuracy: 1.0000\n",
      "Epoch 65/100\n",
      "983/983 [==============================] - 4s 4ms/step - loss: 2.4709e-04 - accuracy: 1.0000\n",
      "Epoch 66/100\n",
      "983/983 [==============================] - 4s 4ms/step - loss: 2.4527e-04 - accuracy: 1.0000\n",
      "Epoch 67/100\n",
      "983/983 [==============================] - 4s 4ms/step - loss: 2.4386e-04 - accuracy: 1.0000\n",
      "Epoch 68/100\n",
      "983/983 [==============================] - 4s 4ms/step - loss: 2.5503e-04 - accuracy: 1.0000\n",
      "Epoch 69/100\n",
      "983/983 [==============================] - 4s 4ms/step - loss: 2.4557e-04 - accuracy: 1.0000\n",
      "Epoch 70/100\n",
      "983/983 [==============================] - 4s 4ms/step - loss: 2.4899e-04 - accuracy: 1.0000\n",
      "Epoch 71/100\n",
      "983/983 [==============================] - 4s 4ms/step - loss: 0.0021 - accuracy: 0.9996\n",
      "Epoch 72/100\n",
      "983/983 [==============================] - 4s 4ms/step - loss: 6.3189e-04 - accuracy: 0.9998\n",
      "Epoch 73/100\n",
      "983/983 [==============================] - 4s 4ms/step - loss: 2.4242e-04 - accuracy: 1.0000\n",
      "Epoch 74/100\n",
      "983/983 [==============================] - 4s 4ms/step - loss: 3.3806e-04 - accuracy: 0.9999\n",
      "Epoch 75/100\n",
      "983/983 [==============================] - 4s 4ms/step - loss: 2.4337e-04 - accuracy: 1.0000\n",
      "Epoch 76/100\n",
      "983/983 [==============================] - 4s 4ms/step - loss: 2.4442e-04 - accuracy: 1.0000\n",
      "Epoch 77/100\n",
      "983/983 [==============================] - 4s 4ms/step - loss: 2.4396e-04 - accuracy: 1.0000\n",
      "Epoch 78/100\n",
      "983/983 [==============================] - 4s 4ms/step - loss: 2.3897e-04 - accuracy: 1.0000\n",
      "Epoch 79/100\n",
      "983/983 [==============================] - 4s 4ms/step - loss: 2.4875e-04 - accuracy: 1.0000\n",
      "Epoch 80/100\n",
      "983/983 [==============================] - 4s 4ms/step - loss: 2.5077e-04 - accuracy: 1.0000\n",
      "Epoch 81/100\n",
      "983/983 [==============================] - 4s 4ms/step - loss: 2.4896e-04 - accuracy: 1.0000\n",
      "Epoch 82/100\n",
      "983/983 [==============================] - 4s 4ms/step - loss: 2.4730e-04 - accuracy: 1.0000\n",
      "Epoch 83/100\n",
      "983/983 [==============================] - 4s 4ms/step - loss: 0.0022 - accuracy: 0.9997\n",
      "Epoch 84/100\n",
      "983/983 [==============================] - 4s 4ms/step - loss: 0.0045 - accuracy: 0.9993\n",
      "Epoch 85/100\n",
      "983/983 [==============================] - 4s 4ms/step - loss: 0.0012 - accuracy: 0.9997\n",
      "Epoch 86/100\n",
      "983/983 [==============================] - 4s 4ms/step - loss: 2.5585e-04 - accuracy: 1.0000\n",
      "Epoch 87/100\n",
      "983/983 [==============================] - 3s 4ms/step - loss: 2.4122e-04 - accuracy: 1.0000\n",
      "Epoch 88/100\n",
      "983/983 [==============================] - 4s 4ms/step - loss: 2.4157e-04 - accuracy: 1.0000\n",
      "Epoch 89/100\n",
      "983/983 [==============================] - 4s 4ms/step - loss: 2.4151e-04 - accuracy: 1.0000\n",
      "Epoch 90/100\n",
      "983/983 [==============================] - 4s 4ms/step - loss: 2.4618e-04 - accuracy: 1.0000\n",
      "Epoch 91/100\n",
      "983/983 [==============================] - 4s 4ms/step - loss: 2.4037e-04 - accuracy: 1.0000\n",
      "Epoch 92/100\n",
      "983/983 [==============================] - 4s 4ms/step - loss: 2.4628e-04 - accuracy: 1.0000\n",
      "Epoch 93/100\n",
      "983/983 [==============================] - 4s 4ms/step - loss: 2.4890e-04 - accuracy: 1.0000\n",
      "Epoch 94/100\n",
      "983/983 [==============================] - 5s 5ms/step - loss: 2.4048e-04 - accuracy: 1.0000\n",
      "Epoch 95/100\n",
      "983/983 [==============================] - 4s 4ms/step - loss: 2.4386e-04 - accuracy: 1.0000\n",
      "Epoch 96/100\n",
      "983/983 [==============================] - 4s 4ms/step - loss: 2.4921e-04 - accuracy: 1.0000\n",
      "Epoch 97/100\n",
      "983/983 [==============================] - 4s 4ms/step - loss: 2.5163e-04 - accuracy: 1.0000\n",
      "Epoch 98/100\n",
      "983/983 [==============================] - 4s 4ms/step - loss: 2.4671e-04 - accuracy: 1.0000\n",
      "Epoch 99/100\n",
      "983/983 [==============================] - 4s 4ms/step - loss: 2.5005e-04 - accuracy: 1.0000\n",
      "Epoch 100/100\n",
      "983/983 [==============================] - 4s 4ms/step - loss: 2.4670e-04 - accuracy: 1.0000\n"
     ]
    },
    {
     "data": {
      "text/plain": [
       "<keras.callbacks.History at 0x24340bf3cd0>"
      ]
     },
     "execution_count": 17,
     "metadata": {},
     "output_type": "execute_result"
    }
   ],
   "source": [
    "ann.fit(X_train, y_train, batch_size = 32, epochs = 100)"
   ]
  },
  {
   "cell_type": "code",
   "execution_count": 18,
   "metadata": {},
   "outputs": [
    {
     "name": "stdout",
     "output_type": "stream",
     "text": [
      "421/421 [==============================] - 2s 3ms/step\n"
     ]
    }
   ],
   "source": [
    "y_pred = ann.predict(X_test)"
   ]
  },
  {
   "cell_type": "code",
   "execution_count": 19,
   "metadata": {},
   "outputs": [],
   "source": [
    "y_pred = (y_pred > 0.5)"
   ]
  },
  {
   "cell_type": "code",
   "execution_count": 20,
   "metadata": {},
   "outputs": [
    {
     "data": {
      "text/plain": [
       "0.9914625092798812"
      ]
     },
     "execution_count": 20,
     "metadata": {},
     "output_type": "execute_result"
    }
   ],
   "source": [
    "from sklearn.metrics import accuracy_score\n",
    "accuracy_score(y_pred, y_test)"
   ]
  }
 ],
 "metadata": {
  "kernelspec": {
   "display_name": "tf",
   "language": "python",
   "name": "python3"
  },
  "language_info": {
   "codemirror_mode": {
    "name": "ipython",
    "version": 3
   },
   "file_extension": ".py",
   "mimetype": "text/x-python",
   "name": "python",
   "nbconvert_exporter": "python",
   "pygments_lexer": "ipython3",
   "version": "3.10.0"
  }
 },
 "nbformat": 4,
 "nbformat_minor": 2
}
